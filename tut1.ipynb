{
 "cells": [
  {
   "cell_type": "code",
   "execution_count": 3,
   "metadata": {},
   "outputs": [],
   "source": [
    "#required libraries\n",
    "\n",
    "#pip install requests\n",
    "import requests\n",
    "\n",
    "#bulit-in librarie\n",
    "# s\n",
    "from queue import Queue\n",
    "from threading import Thread\n"
   ]
  },
  {
   "cell_type": "code",
   "execution_count": 4,
   "metadata": {},
   "outputs": [],
   "source": [
    "#download an image to the same folder of this file\n",
    "def download_img(img_url: str):\n",
    "\n",
    "\tres = requests.get(img_url, stream=True)\n",
    "\tfilename = f\"{img_url.split('/')[-1]}.jpg\"\n",
    "\n",
    "\n",
    "\twith open(filename, 'wb') as f:\n",
    "\t\tfor block in res.iter_content(1024):\n",
    "\t\t\tf.write(block)"
   ]
  },
  {
   "cell_type": "code",
   "execution_count": 5,
   "metadata": {},
   "outputs": [],
   "source": [
    "#list of images\n",
    "images = [\n",
    "    'https://images.unsplash.com/photo-1509718443690-d8e2fb3474b7',\n",
    "\n",
    "    'https://images.unsplash.com/photo-1587620962725-abab7fe55159',\n",
    "\n",
    "    'https://images.unsplash.com/photo-1493119508027-2b584f234d6c',\n",
    "\n",
    "    'https://images.unsplash.com/photo-1482062364825-616fd23b8fc1',\n",
    "\n",
    "    'https://images.unsplash.com/photo-1521185496955-15097b20c5fe',\n",
    "\n",
    "    'https://images.unsplash.com/photo-1510915228340-29c85a43dcfe',\n",
    "\n",
    " ]\n",
    "\n"
   ]
  },
  {
   "cell_type": "code",
   "execution_count": 4,
   "metadata": {},
   "outputs": [],
   "source": [
    "#download each images in the list we previously created 5 times \n",
    "for img in images * 5:\n",
    "     download_img(img)"
   ]
  },
  {
   "cell_type": "code",
   "execution_count": 6,
   "metadata": {},
   "outputs": [],
   "source": [
    "#we will try to use threading to enhance the previous task \n",
    "\n",
    "#we will use 5 threads\n",
    "NUM_THREADS = 5\n",
    "\n",
    "#create a global queue to be shared between all threads\n",
    "q = Queue()\n",
    "\n",
    "#put 5 copies of the list in the queue to get the same result of the prevois method\n",
    "for img_url in images * 5:\n",
    "    q.put(img_url)\n",
    "\n",
    "#modify download_img to take the links from the global queue instead of the list\n",
    "def download_img():\n",
    "\n",
    "\tglobal q\n",
    "\n",
    "\twhile True:\n",
    "\t\timg_url = q.get()\n",
    "\n",
    "\t\tres = requests.get(img_url, stream=True)\n",
    "\t\tfilename = f\"{img_url.split('/')[-1]}.jpg\"\n",
    "\n",
    "\t\twith open(filename, 'wb') as f:\n",
    "\t\t\tfor block in res.iter_content(1024):\n",
    "\t\t\t\tf.write(block)\n"
   ]
  },
  {
   "cell_type": "code",
   "execution_count": 7,
   "metadata": {},
   "outputs": [],
   "source": [
    "#now let's creat and start the threads !\n",
    "threads=[]\n",
    "for t in range(NUM_THREADS):\n",
    "    thread = Thread(target=download_img)\n",
    "    thread.daemon = True\n",
    "    thread.start()\n",
    "    threads.append(thread)\n",
    "\n",
    "\n",
    "for thread in threads:\n",
    "    thread.join()\n"
   ]
  }
 ],
 "metadata": {
  "kernelspec": {
   "display_name": "Python 3.10.4 64-bit",
   "language": "python",
   "name": "python3"
  },
  "language_info": {
   "codemirror_mode": {
    "name": "ipython",
    "version": 3
   },
   "file_extension": ".py",
   "mimetype": "text/x-python",
   "name": "python",
   "nbconvert_exporter": "python",
   "pygments_lexer": "ipython3",
   "version": "3.10.4"
  },
  "orig_nbformat": 4,
  "vscode": {
   "interpreter": {
    "hash": "4217bdb66c1619d3c7bf3a5f6dea8f7bd4200ce5b7b90b812037b80bad35d2ee"
   }
  }
 },
 "nbformat": 4,
 "nbformat_minor": 2
}
